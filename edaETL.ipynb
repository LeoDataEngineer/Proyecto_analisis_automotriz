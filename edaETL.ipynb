{
 "cells": [
  {
   "cell_type": "code",
   "execution_count": 1,
   "metadata": {},
   "outputs": [],
   "source": [
    "import pandas as pd\n",
    "import matplotlib.pyplot as plt\n"
   ]
  },
  {
   "cell_type": "markdown",
   "metadata": {},
   "source": [
    "Proceso EDA:"
   ]
  },
  {
   "cell_type": "markdown",
   "metadata": {},
   "source": [
    "Se lee el archivo Emnpleados.csv"
   ]
  },
  {
   "cell_type": "code",
   "execution_count": 2,
   "metadata": {},
   "outputs": [],
   "source": [
    "df_empleado = pd.read_csv('Empleados.csv',delimiter=';')\n"
   ]
  },
  {
   "cell_type": "code",
   "execution_count": 3,
   "metadata": {},
   "outputs": [],
   "source": [
    "data_frame_empleado = df_empleado.copy()"
   ]
  },
  {
   "cell_type": "code",
   "execution_count": 4,
   "metadata": {},
   "outputs": [
    {
     "data": {
      "text/html": [
       "<div>\n",
       "<style scoped>\n",
       "    .dataframe tbody tr th:only-of-type {\n",
       "        vertical-align: middle;\n",
       "    }\n",
       "\n",
       "    .dataframe tbody tr th {\n",
       "        vertical-align: top;\n",
       "    }\n",
       "\n",
       "    .dataframe thead th {\n",
       "        text-align: right;\n",
       "    }\n",
       "</style>\n",
       "<table border=\"1\" class=\"dataframe\">\n",
       "  <thead>\n",
       "    <tr style=\"text-align: right;\">\n",
       "      <th></th>\n",
       "      <th>Id_Empleado</th>\n",
       "      <th>Nombre y Apellido</th>\n",
       "    </tr>\n",
       "  </thead>\n",
       "  <tbody>\n",
       "    <tr>\n",
       "      <th>18</th>\n",
       "      <td>19</td>\n",
       "      <td>Alan Silvan</td>\n",
       "    </tr>\n",
       "    <tr>\n",
       "      <th>21</th>\n",
       "      <td>22</td>\n",
       "      <td>Montaña Ariel</td>\n",
       "    </tr>\n",
       "    <tr>\n",
       "      <th>56</th>\n",
       "      <td>57</td>\n",
       "      <td>Alejandro Gimenez</td>\n",
       "    </tr>\n",
       "    <tr>\n",
       "      <th>23</th>\n",
       "      <td>24</td>\n",
       "      <td>Tello German</td>\n",
       "    </tr>\n",
       "    <tr>\n",
       "      <th>8</th>\n",
       "      <td>9</td>\n",
       "      <td>Marco Delgado</td>\n",
       "    </tr>\n",
       "  </tbody>\n",
       "</table>\n",
       "</div>"
      ],
      "text/plain": [
       "    Id_Empleado  Nombre y Apellido\n",
       "18           19        Alan Silvan\n",
       "21           22      Montaña Ariel\n",
       "56           57  Alejandro Gimenez\n",
       "23           24       Tello German\n",
       "8             9      Marco Delgado"
      ]
     },
     "execution_count": 4,
     "metadata": {},
     "output_type": "execute_result"
    }
   ],
   "source": [
    "data_frame_empleado.sample(5)"
   ]
  },
  {
   "cell_type": "code",
   "execution_count": 5,
   "metadata": {},
   "outputs": [
    {
     "name": "stdout",
     "output_type": "stream",
     "text": [
      "<class 'pandas.core.frame.DataFrame'>\n",
      "RangeIndex: 68 entries, 0 to 67\n",
      "Data columns (total 2 columns):\n",
      " #   Column             Non-Null Count  Dtype \n",
      "---  ------             --------------  ----- \n",
      " 0   Id_Empleado        68 non-null     int64 \n",
      " 1   Nombre y Apellido  68 non-null     object\n",
      "dtypes: int64(1), object(1)\n",
      "memory usage: 1.2+ KB\n"
     ]
    }
   ],
   "source": [
    "data_frame_empleado.info()"
   ]
  },
  {
   "cell_type": "markdown",
   "metadata": {},
   "source": [
    "Se lee el archivo de ventas.csv"
   ]
  },
  {
   "cell_type": "code",
   "execution_count": 6,
   "metadata": {},
   "outputs": [
    {
     "name": "stderr",
     "output_type": "stream",
     "text": [
      "C:\\Users\\leoma\\AppData\\Local\\Temp\\ipykernel_2316\\3552495747.py:1: DtypeWarning: Columns (0,1,2,4,5,7,8,9,10,11) have mixed types. Specify dtype option on import or set low_memory=False.\n",
      "  df_ventas = pd.read_csv('Ventas.csv', delimiter=';')\n"
     ]
    }
   ],
   "source": [
    "df_ventas = pd.read_csv('Ventas.csv', delimiter=';')"
   ]
  },
  {
   "cell_type": "code",
   "execution_count": 7,
   "metadata": {},
   "outputs": [],
   "source": [
    "\n",
    "df_ventas.drop(index=range(127255, len(df_ventas)), inplace=True)\n",
    "\n"
   ]
  },
  {
   "cell_type": "code",
   "execution_count": 8,
   "metadata": {},
   "outputs": [],
   "source": [
    "data_frame_ventas = df_ventas.copy()"
   ]
  },
  {
   "cell_type": "code",
   "execution_count": 9,
   "metadata": {},
   "outputs": [
    {
     "data": {
      "text/html": [
       "<div>\n",
       "<style scoped>\n",
       "    .dataframe tbody tr th:only-of-type {\n",
       "        vertical-align: middle;\n",
       "    }\n",
       "\n",
       "    .dataframe tbody tr th {\n",
       "        vertical-align: top;\n",
       "    }\n",
       "\n",
       "    .dataframe thead th {\n",
       "        text-align: right;\n",
       "    }\n",
       "</style>\n",
       "<table border=\"1\" class=\"dataframe\">\n",
       "  <thead>\n",
       "    <tr style=\"text-align: right;\">\n",
       "      <th></th>\n",
       "      <th>IdCliente</th>\n",
       "      <th>NombreCliente</th>\n",
       "      <th>Fecha</th>\n",
       "      <th>Empleado</th>\n",
       "      <th>Referencia</th>\n",
       "      <th>Descripcion</th>\n",
       "      <th>CodigoFamilia</th>\n",
       "      <th>Familia</th>\n",
       "      <th>Cantidad</th>\n",
       "      <th>Ventas</th>\n",
       "      <th>Localidad</th>\n",
       "      <th>Sede</th>\n",
       "      <th>Area</th>\n",
       "    </tr>\n",
       "  </thead>\n",
       "  <tbody>\n",
       "    <tr>\n",
       "      <th>67190</th>\n",
       "      <td>C15051158</td>\n",
       "      <td>ALVAREZ LUIS FERNANDO</td>\n",
       "      <td>12/7/2018</td>\n",
       "      <td>14.0</td>\n",
       "      <td>SE-CS-2-0002</td>\n",
       "      <td>BALANCEO CAMIONETA</td>\n",
       "      <td>106.0</td>\n",
       "      <td>SERVICIOS</td>\n",
       "      <td>4</td>\n",
       "      <td>26891</td>\n",
       "      <td>Suba</td>\n",
       "      <td>Suba</td>\n",
       "      <td>32.0</td>\n",
       "    </tr>\n",
       "    <tr>\n",
       "      <th>36500</th>\n",
       "      <td>C860007701</td>\n",
       "      <td>COMPAnIA DE TAXIS VERDES S.A.</td>\n",
       "      <td>14/9/2017</td>\n",
       "      <td>37.0</td>\n",
       "      <td>SE-CS-3-0001</td>\n",
       "      <td>MONTAJE AUTO-CAMIONETA</td>\n",
       "      <td>106.0</td>\n",
       "      <td>SERVICIOS</td>\n",
       "      <td>2</td>\n",
       "      <td>13445</td>\n",
       "      <td>Puente aranda</td>\n",
       "      <td>Calle 13</td>\n",
       "      <td>35.0</td>\n",
       "    </tr>\n",
       "    <tr>\n",
       "      <th>59677</th>\n",
       "      <td>C17112715</td>\n",
       "      <td>RUIZ ROGELIO</td>\n",
       "      <td>27/4/2018</td>\n",
       "      <td>10.0</td>\n",
       "      <td>LUA-0033</td>\n",
       "      <td>PETROBRAS 20W50 GRANEL</td>\n",
       "      <td>103.0</td>\n",
       "      <td>LUBRICANTES</td>\n",
       "      <td>1</td>\n",
       "      <td>50800</td>\n",
       "      <td>Engativa</td>\n",
       "      <td>Calle 80</td>\n",
       "      <td>31.0</td>\n",
       "    </tr>\n",
       "    <tr>\n",
       "      <th>43267</th>\n",
       "      <td>C79712261</td>\n",
       "      <td>URREGO ALEXANDER</td>\n",
       "      <td>22/11/2017</td>\n",
       "      <td>10.0</td>\n",
       "      <td>SE-CS-1-0001</td>\n",
       "      <td>ALINEACION AUTO</td>\n",
       "      <td>106.0</td>\n",
       "      <td>SERVICIOS</td>\n",
       "      <td>1</td>\n",
       "      <td>29412</td>\n",
       "      <td>Engativa</td>\n",
       "      <td>Calle 80</td>\n",
       "      <td>31.0</td>\n",
       "    </tr>\n",
       "    <tr>\n",
       "      <th>26297</th>\n",
       "      <td>C860040576</td>\n",
       "      <td>COLTANQUES SAS</td>\n",
       "      <td>3/6/2017</td>\n",
       "      <td>2.0</td>\n",
       "      <td>SE-GF-1-0001</td>\n",
       "      <td>ALINEACION</td>\n",
       "      <td>106.0</td>\n",
       "      <td>SERVICIOS</td>\n",
       "      <td>1</td>\n",
       "      <td>18900</td>\n",
       "      <td>Bogota</td>\n",
       "      <td>Grandes flotas</td>\n",
       "      <td>21.0</td>\n",
       "    </tr>\n",
       "  </tbody>\n",
       "</table>\n",
       "</div>"
      ],
      "text/plain": [
       "        IdCliente                  NombreCliente       Fecha  Empleado   \n",
       "67190   C15051158          ALVAREZ LUIS FERNANDO   12/7/2018      14.0  \\\n",
       "36500  C860007701  COMPAnIA DE TAXIS VERDES S.A.   14/9/2017      37.0   \n",
       "59677   C17112715                   RUIZ ROGELIO   27/4/2018      10.0   \n",
       "43267   C79712261               URREGO ALEXANDER  22/11/2017      10.0   \n",
       "26297  C860040576                 COLTANQUES SAS    3/6/2017       2.0   \n",
       "\n",
       "         Referencia             Descripcion  CodigoFamilia      Familia   \n",
       "67190  SE-CS-2-0002      BALANCEO CAMIONETA          106.0    SERVICIOS  \\\n",
       "36500  SE-CS-3-0001  MONTAJE AUTO-CAMIONETA          106.0    SERVICIOS   \n",
       "59677      LUA-0033  PETROBRAS 20W50 GRANEL          103.0  LUBRICANTES   \n",
       "43267  SE-CS-1-0001         ALINEACION AUTO          106.0    SERVICIOS   \n",
       "26297  SE-GF-1-0001              ALINEACION          106.0    SERVICIOS   \n",
       "\n",
       "      Cantidad Ventas      Localidad            Sede  Area  \n",
       "67190        4  26891           Suba            Suba  32.0  \n",
       "36500        2  13445  Puente aranda        Calle 13  35.0  \n",
       "59677        1  50800       Engativa        Calle 80  31.0  \n",
       "43267        1  29412       Engativa        Calle 80  31.0  \n",
       "26297        1  18900         Bogota  Grandes flotas  21.0  "
      ]
     },
     "execution_count": 9,
     "metadata": {},
     "output_type": "execute_result"
    }
   ],
   "source": [
    "data_frame_ventas.sample(5)"
   ]
  },
  {
   "cell_type": "code",
   "execution_count": 10,
   "metadata": {},
   "outputs": [
    {
     "name": "stdout",
     "output_type": "stream",
     "text": [
      "<class 'pandas.core.frame.DataFrame'>\n",
      "RangeIndex: 127255 entries, 0 to 127254\n",
      "Data columns (total 13 columns):\n",
      " #   Column         Non-Null Count   Dtype  \n",
      "---  ------         --------------   -----  \n",
      " 0   IdCliente      127255 non-null  object \n",
      " 1   NombreCliente  127255 non-null  object \n",
      " 2   Fecha          127255 non-null  object \n",
      " 3   Empleado       127255 non-null  float64\n",
      " 4   Referencia     127255 non-null  object \n",
      " 5   Descripcion    127255 non-null  object \n",
      " 6   CodigoFamilia  127255 non-null  float64\n",
      " 7   Familia        127255 non-null  object \n",
      " 8   Cantidad       127255 non-null  object \n",
      " 9   Ventas         127255 non-null  object \n",
      " 10  Localidad      127255 non-null  object \n",
      " 11  Sede           127255 non-null  object \n",
      " 12  Area           127255 non-null  float64\n",
      "dtypes: float64(3), object(10)\n",
      "memory usage: 12.6+ MB\n"
     ]
    }
   ],
   "source": [
    "data_frame_ventas.info()"
   ]
  },
  {
   "cell_type": "code",
   "execution_count": 11,
   "metadata": {},
   "outputs": [
    {
     "data": {
      "text/html": [
       "<div>\n",
       "<style scoped>\n",
       "    .dataframe tbody tr th:only-of-type {\n",
       "        vertical-align: middle;\n",
       "    }\n",
       "\n",
       "    .dataframe tbody tr th {\n",
       "        vertical-align: top;\n",
       "    }\n",
       "\n",
       "    .dataframe thead th {\n",
       "        text-align: right;\n",
       "    }\n",
       "</style>\n",
       "<table border=\"1\" class=\"dataframe\">\n",
       "  <thead>\n",
       "    <tr style=\"text-align: right;\">\n",
       "      <th></th>\n",
       "      <th>IdCliente</th>\n",
       "      <th>NombreCliente</th>\n",
       "      <th>Fecha</th>\n",
       "      <th>Empleado</th>\n",
       "      <th>Referencia</th>\n",
       "      <th>Descripcion</th>\n",
       "      <th>CodigoFamilia</th>\n",
       "      <th>Familia</th>\n",
       "      <th>Cantidad</th>\n",
       "      <th>Ventas</th>\n",
       "      <th>Localidad</th>\n",
       "      <th>Sede</th>\n",
       "      <th>Area</th>\n",
       "    </tr>\n",
       "  </thead>\n",
       "  <tbody>\n",
       "    <tr>\n",
       "      <th>85017</th>\n",
       "      <td>C19261124</td>\n",
       "      <td>GARZON ERNESTO</td>\n",
       "      <td>10/1/2019</td>\n",
       "      <td>44.0</td>\n",
       "      <td>SE-CS-4-0001</td>\n",
       "      <td>REPARACION MENOR DE LLANTA (DESPINCHE ) TACO</td>\n",
       "      <td>106.0</td>\n",
       "      <td>SERVICIOS</td>\n",
       "      <td>1</td>\n",
       "      <td>10084</td>\n",
       "      <td>Puente aranda</td>\n",
       "      <td>Calle 13</td>\n",
       "      <td>35.0</td>\n",
       "    </tr>\n",
       "    <tr>\n",
       "      <th>27272</th>\n",
       "      <td>C860040576</td>\n",
       "      <td>COLTANQUES SAS</td>\n",
       "      <td>12/6/2017</td>\n",
       "      <td>2.0</td>\n",
       "      <td>SE-GF-1-0001</td>\n",
       "      <td>ALINEACION</td>\n",
       "      <td>106.0</td>\n",
       "      <td>SERVICIOS</td>\n",
       "      <td>1</td>\n",
       "      <td>18900</td>\n",
       "      <td>Bogota</td>\n",
       "      <td>Grandes flotas</td>\n",
       "      <td>21.0</td>\n",
       "    </tr>\n",
       "    <tr>\n",
       "      <th>69158</th>\n",
       "      <td>C52706610</td>\n",
       "      <td>PERALTA HEYDI</td>\n",
       "      <td>4/8/2018</td>\n",
       "      <td>36.0</td>\n",
       "      <td>VFA-0027</td>\n",
       "      <td>FILTRO DE ACEITE MF-16</td>\n",
       "      <td>109.0</td>\n",
       "      <td>FILTROS</td>\n",
       "      <td>1</td>\n",
       "      <td>10084</td>\n",
       "      <td>Engativa</td>\n",
       "      <td>Calle 80</td>\n",
       "      <td>31.0</td>\n",
       "    </tr>\n",
       "    <tr>\n",
       "      <th>49585</th>\n",
       "      <td>C79296183</td>\n",
       "      <td>TELLEZ PEnALOZA ENRI</td>\n",
       "      <td>15/1/2018</td>\n",
       "      <td>10.0</td>\n",
       "      <td>REB-0137</td>\n",
       "      <td>REENC  TR 750-16</td>\n",
       "      <td>102.0</td>\n",
       "      <td>REENCAUCHE</td>\n",
       "      <td>2</td>\n",
       "      <td>489075</td>\n",
       "      <td>Engativa</td>\n",
       "      <td>Calle 80</td>\n",
       "      <td>31.0</td>\n",
       "    </tr>\n",
       "    <tr>\n",
       "      <th>45743</th>\n",
       "      <td>C19374800</td>\n",
       "      <td>MONTOYA GONZALO</td>\n",
       "      <td>14/12/2017</td>\n",
       "      <td>10.0</td>\n",
       "      <td>LUA-0011</td>\n",
       "      <td>HELIX 20W50 GALON</td>\n",
       "      <td>103.0</td>\n",
       "      <td>LUBRICANTES</td>\n",
       "      <td>1</td>\n",
       "      <td>110000</td>\n",
       "      <td>Engativa</td>\n",
       "      <td>Calle 80</td>\n",
       "      <td>31.0</td>\n",
       "    </tr>\n",
       "  </tbody>\n",
       "</table>\n",
       "</div>"
      ],
      "text/plain": [
       "        IdCliente         NombreCliente       Fecha  Empleado    Referencia   \n",
       "85017   C19261124        GARZON ERNESTO   10/1/2019      44.0  SE-CS-4-0001  \\\n",
       "27272  C860040576        COLTANQUES SAS   12/6/2017       2.0  SE-GF-1-0001   \n",
       "69158   C52706610         PERALTA HEYDI    4/8/2018      36.0      VFA-0027   \n",
       "49585   C79296183  TELLEZ PEnALOZA ENRI   15/1/2018      10.0      REB-0137   \n",
       "45743   C19374800       MONTOYA GONZALO  14/12/2017      10.0      LUA-0011   \n",
       "\n",
       "                                        Descripcion  CodigoFamilia   \n",
       "85017  REPARACION MENOR DE LLANTA (DESPINCHE ) TACO          106.0  \\\n",
       "27272                                    ALINEACION          106.0   \n",
       "69158                        FILTRO DE ACEITE MF-16          109.0   \n",
       "49585                              REENC  TR 750-16          102.0   \n",
       "45743                             HELIX 20W50 GALON          103.0   \n",
       "\n",
       "           Familia Cantidad  Ventas      Localidad            Sede  Area  \n",
       "85017    SERVICIOS        1   10084  Puente aranda        Calle 13  35.0  \n",
       "27272    SERVICIOS        1   18900         Bogota  Grandes flotas  21.0  \n",
       "69158      FILTROS        1   10084       Engativa        Calle 80  31.0  \n",
       "49585   REENCAUCHE        2  489075       Engativa        Calle 80  31.0  \n",
       "45743  LUBRICANTES        1  110000       Engativa        Calle 80  31.0  "
      ]
     },
     "execution_count": 11,
     "metadata": {},
     "output_type": "execute_result"
    }
   ],
   "source": [
    "data_frame_ventas.sample(5)"
   ]
  },
  {
   "cell_type": "code",
   "execution_count": 12,
   "metadata": {},
   "outputs": [
    {
     "data": {
      "text/plain": [
       "IdCliente        0\n",
       "NombreCliente    0\n",
       "Fecha            0\n",
       "Empleado         0\n",
       "Referencia       0\n",
       "Descripcion      0\n",
       "CodigoFamilia    0\n",
       "Familia          0\n",
       "Cantidad         0\n",
       "Ventas           0\n",
       "Localidad        0\n",
       "Sede             0\n",
       "Area             0\n",
       "dtype: int64"
      ]
     },
     "execution_count": 12,
     "metadata": {},
     "output_type": "execute_result"
    }
   ],
   "source": [
    "data_frame_ventas.isnull().sum()"
   ]
  },
  {
   "cell_type": "code",
   "execution_count": 13,
   "metadata": {},
   "outputs": [],
   "source": [
    "# df.to_csv('df_limpio.csv', index=False)"
   ]
  },
  {
   "cell_type": "markdown",
   "metadata": {},
   "source": [
    "Proceso de transformacion y limpieza:"
   ]
  },
  {
   "cell_type": "markdown",
   "metadata": {},
   "source": [
    "Tabla Ventas:"
   ]
  },
  {
   "cell_type": "code",
   "execution_count": 14,
   "metadata": {},
   "outputs": [],
   "source": [
    "#cambiar el tipo de dato de las columnas\n",
    "data_frame_ventas['Empleado'] = data_frame_ventas['Empleado'].astype(int)\n",
    "data_frame_ventas['CodigoFamilia'] = data_frame_ventas['CodigoFamilia'].astype(int)\n",
    "data_frame_ventas['Area'] = data_frame_ventas['Area'].astype(int)"
   ]
  },
  {
   "cell_type": "code",
   "execution_count": 15,
   "metadata": {},
   "outputs": [],
   "source": [
    "#cambio de nombre de columna de ventas por Id_Empleado para hacer la relacion de las tablas\n",
    "data_frame_ventas.rename(columns={'Empleado': 'Id_Empleado'}, inplace=True)"
   ]
  },
  {
   "cell_type": "code",
   "execution_count": 16,
   "metadata": {},
   "outputs": [],
   "source": [
    "#unificacion de las tablas \n",
    "df_unificada = pd.merge(data_frame_empleado, data_frame_ventas, on='Id_Empleado')"
   ]
  },
  {
   "cell_type": "code",
   "execution_count": 17,
   "metadata": {},
   "outputs": [
    {
     "data": {
      "text/html": [
       "<div>\n",
       "<style scoped>\n",
       "    .dataframe tbody tr th:only-of-type {\n",
       "        vertical-align: middle;\n",
       "    }\n",
       "\n",
       "    .dataframe tbody tr th {\n",
       "        vertical-align: top;\n",
       "    }\n",
       "\n",
       "    .dataframe thead th {\n",
       "        text-align: right;\n",
       "    }\n",
       "</style>\n",
       "<table border=\"1\" class=\"dataframe\">\n",
       "  <thead>\n",
       "    <tr style=\"text-align: right;\">\n",
       "      <th></th>\n",
       "      <th>Id_Empleado</th>\n",
       "      <th>Nombre y Apellido</th>\n",
       "      <th>IdCliente</th>\n",
       "      <th>NombreCliente</th>\n",
       "      <th>Fecha</th>\n",
       "      <th>Referencia</th>\n",
       "      <th>Descripcion</th>\n",
       "      <th>CodigoFamilia</th>\n",
       "      <th>Familia</th>\n",
       "      <th>Cantidad</th>\n",
       "      <th>Ventas</th>\n",
       "      <th>Localidad</th>\n",
       "      <th>Sede</th>\n",
       "      <th>Area</th>\n",
       "    </tr>\n",
       "  </thead>\n",
       "  <tbody>\n",
       "    <tr>\n",
       "      <th>63967</th>\n",
       "      <td>14</td>\n",
       "      <td>Javier Garay</td>\n",
       "      <td>C23423071</td>\n",
       "      <td>GIL AVILA MIRIAM YANETH</td>\n",
       "      <td>28/12/2019</td>\n",
       "      <td>SE-CS-11-0002</td>\n",
       "      <td>RECTIFICACION RIN LUJO</td>\n",
       "      <td>106</td>\n",
       "      <td>SERVICIOS</td>\n",
       "      <td>1</td>\n",
       "      <td>29412</td>\n",
       "      <td>Suba</td>\n",
       "      <td>Suba</td>\n",
       "      <td>32</td>\n",
       "    </tr>\n",
       "    <tr>\n",
       "      <th>102520</th>\n",
       "      <td>45</td>\n",
       "      <td>Nicolas Castro</td>\n",
       "      <td>C900454921</td>\n",
       "      <td>HELPHONE SAS</td>\n",
       "      <td>17/10/2018</td>\n",
       "      <td>SE-CS-5-0001</td>\n",
       "      <td>ROTACION LLANTAS AUTO / CAMIONETA</td>\n",
       "      <td>106</td>\n",
       "      <td>SERVICIOS</td>\n",
       "      <td>1</td>\n",
       "      <td>8403</td>\n",
       "      <td>Barrios unidos</td>\n",
       "      <td>Av Chile</td>\n",
       "      <td>34</td>\n",
       "    </tr>\n",
       "    <tr>\n",
       "      <th>110817</th>\n",
       "      <td>50</td>\n",
       "      <td>Thian Navarro</td>\n",
       "      <td>C800166199</td>\n",
       "      <td>DELTEC SA</td>\n",
       "      <td>9/1/2019</td>\n",
       "      <td>VFR-0262</td>\n",
       "      <td>FILTRO DE COMBUSTIBLE MFC-299616 / FLP-355</td>\n",
       "      <td>109</td>\n",
       "      <td>FILTROS</td>\n",
       "      <td>1</td>\n",
       "      <td>23529</td>\n",
       "      <td>Engativa</td>\n",
       "      <td>Calle 80</td>\n",
       "      <td>31</td>\n",
       "    </tr>\n",
       "    <tr>\n",
       "      <th>96616</th>\n",
       "      <td>44</td>\n",
       "      <td>Juan Casivar</td>\n",
       "      <td>C900576925</td>\n",
       "      <td>EDAFAL PETROL S A S</td>\n",
       "      <td>5/12/2019</td>\n",
       "      <td>SE-CS-2-0002</td>\n",
       "      <td>BALANCEO CAMIONETA</td>\n",
       "      <td>106</td>\n",
       "      <td>SERVICIOS</td>\n",
       "      <td>4</td>\n",
       "      <td>33613</td>\n",
       "      <td>Engativa</td>\n",
       "      <td>Calle 80</td>\n",
       "      <td>31</td>\n",
       "    </tr>\n",
       "    <tr>\n",
       "      <th>82935</th>\n",
       "      <td>36</td>\n",
       "      <td>Luis Barquiel</td>\n",
       "      <td>C17183411</td>\n",
       "      <td>RUIZ EDGAR</td>\n",
       "      <td>30/8/2018</td>\n",
       "      <td>SE-CS-10-0001</td>\n",
       "      <td>CALIBRACION CON NITROGENO</td>\n",
       "      <td>106</td>\n",
       "      <td>SERVICIOS</td>\n",
       "      <td>4</td>\n",
       "      <td>16807</td>\n",
       "      <td>Engativa</td>\n",
       "      <td>Calle 80</td>\n",
       "      <td>31</td>\n",
       "    </tr>\n",
       "  </tbody>\n",
       "</table>\n",
       "</div>"
      ],
      "text/plain": [
       "        Id_Empleado Nombre y Apellido   IdCliente            NombreCliente   \n",
       "63967            14      Javier Garay   C23423071  GIL AVILA MIRIAM YANETH  \\\n",
       "102520           45    Nicolas Castro  C900454921             HELPHONE SAS   \n",
       "110817           50     Thian Navarro  C800166199                DELTEC SA   \n",
       "96616            44      Juan Casivar  C900576925      EDAFAL PETROL S A S   \n",
       "82935            36     Luis Barquiel   C17183411               RUIZ EDGAR   \n",
       "\n",
       "             Fecha     Referencia                                 Descripcion   \n",
       "63967   28/12/2019  SE-CS-11-0002                      RECTIFICACION RIN LUJO  \\\n",
       "102520  17/10/2018   SE-CS-5-0001           ROTACION LLANTAS AUTO / CAMIONETA   \n",
       "110817    9/1/2019       VFR-0262  FILTRO DE COMBUSTIBLE MFC-299616 / FLP-355   \n",
       "96616    5/12/2019   SE-CS-2-0002                          BALANCEO CAMIONETA   \n",
       "82935    30/8/2018  SE-CS-10-0001                   CALIBRACION CON NITROGENO   \n",
       "\n",
       "        CodigoFamilia    Familia Cantidad Ventas       Localidad      Sede   \n",
       "63967             106  SERVICIOS        1  29412            Suba      Suba  \\\n",
       "102520            106  SERVICIOS        1   8403  Barrios unidos  Av Chile   \n",
       "110817            109    FILTROS        1  23529        Engativa  Calle 80   \n",
       "96616             106  SERVICIOS        4  33613        Engativa  Calle 80   \n",
       "82935             106  SERVICIOS        4  16807        Engativa  Calle 80   \n",
       "\n",
       "        Area  \n",
       "63967     32  \n",
       "102520    34  \n",
       "110817    31  \n",
       "96616     31  \n",
       "82935     31  "
      ]
     },
     "execution_count": 17,
     "metadata": {},
     "output_type": "execute_result"
    }
   ],
   "source": [
    "df_unificada.sample(5)"
   ]
  },
  {
   "cell_type": "code",
   "execution_count": 18,
   "metadata": {},
   "outputs": [
    {
     "data": {
      "text/plain": [
       "2276     70.000.001,00\n",
       "2277     70.000.001,00\n",
       "8001     74.511.448,00\n",
       "11683    65.321.270,00\n",
       "16360    74.158.398,00\n",
       "Name: Ventas, dtype: object"
      ]
     },
     "execution_count": 18,
     "metadata": {},
     "output_type": "execute_result"
    }
   ],
   "source": [
    "# Explorar la columna ventas, ya que hay valores de la columna que no cumplen con el formato numerico\n",
    "# encontrar los valores con el formato no numericos, los valores correctos solo lleva punto para el decimal\n",
    "valores_no_numericos = df_unificada['Ventas'][pd.to_numeric(df_unificada['Ventas'], errors='coerce').isnull()]\n",
    "valores_no_numericos"
   ]
  },
  {
   "cell_type": "code",
   "execution_count": 19,
   "metadata": {},
   "outputs": [
    {
     "data": {
      "text/plain": [
       "0          992759.0\n",
       "1         1755172.0\n",
       "2           21552.0\n",
       "3           31034.0\n",
       "4           32759.0\n",
       "            ...    \n",
       "127250    2099412.0\n",
       "127251      16807.0\n",
       "127252      33613.0\n",
       "127253      33613.0\n",
       "127254    1882353.0\n",
       "Name: Ventas, Length: 127255, dtype: float64"
      ]
     },
     "execution_count": 19,
     "metadata": {},
     "output_type": "execute_result"
    }
   ],
   "source": [
    "\n",
    "# Funcion que limpia y convierte los valores que no son numericos, hay algunos valores que tienen simbolos y puntos\n",
    "def limpiar_convertir(valor):\n",
    "    valor = str(valor).replace('$', '').replace('.', '').replace(',', '.')\n",
    "    return float(valor)\n",
    "\n",
    "# Aplicamos la función a la columna 'Ventas'\n",
    "df_unificada['Ventas'] = df_unificada['Ventas'].apply(limpiar_convertir)\n",
    "\n",
    "df_unificada['Ventas']"
   ]
  },
  {
   "cell_type": "markdown",
   "metadata": {},
   "source": [
    "Se  crea una columna para pasar los valores de pesos a dolares:"
   ]
  },
  {
   "cell_type": "code",
   "execution_count": 20,
   "metadata": {},
   "outputs": [],
   "source": [
    "df_unificada['Venta_Dolares'] = df_unificada['Ventas'] * 0.00023"
   ]
  },
  {
   "cell_type": "code",
   "execution_count": 21,
   "metadata": {},
   "outputs": [
    {
     "data": {
      "text/html": [
       "<div>\n",
       "<style scoped>\n",
       "    .dataframe tbody tr th:only-of-type {\n",
       "        vertical-align: middle;\n",
       "    }\n",
       "\n",
       "    .dataframe tbody tr th {\n",
       "        vertical-align: top;\n",
       "    }\n",
       "\n",
       "    .dataframe thead th {\n",
       "        text-align: right;\n",
       "    }\n",
       "</style>\n",
       "<table border=\"1\" class=\"dataframe\">\n",
       "  <thead>\n",
       "    <tr style=\"text-align: right;\">\n",
       "      <th></th>\n",
       "      <th>Id_Empleado</th>\n",
       "      <th>Nombre y Apellido</th>\n",
       "      <th>IdCliente</th>\n",
       "      <th>NombreCliente</th>\n",
       "      <th>Fecha</th>\n",
       "      <th>Referencia</th>\n",
       "      <th>Descripcion</th>\n",
       "      <th>CodigoFamilia</th>\n",
       "      <th>Familia</th>\n",
       "      <th>Cantidad</th>\n",
       "      <th>Ventas</th>\n",
       "      <th>Localidad</th>\n",
       "      <th>Sede</th>\n",
       "      <th>Area</th>\n",
       "      <th>Venta_Dolares</th>\n",
       "    </tr>\n",
       "  </thead>\n",
       "  <tbody>\n",
       "    <tr>\n",
       "      <th>99598</th>\n",
       "      <td>45</td>\n",
       "      <td>Nicolas Castro</td>\n",
       "      <td>C79141952</td>\n",
       "      <td>BUITRAGO TIMOLEON</td>\n",
       "      <td>24/11/2017</td>\n",
       "      <td>SE-CS-1-0001</td>\n",
       "      <td>ALINEACION AUTO</td>\n",
       "      <td>106</td>\n",
       "      <td>SERVICIOS</td>\n",
       "      <td>1</td>\n",
       "      <td>33613.0</td>\n",
       "      <td>Barrios unidos</td>\n",
       "      <td>Av Chile</td>\n",
       "      <td>34</td>\n",
       "      <td>7.73099</td>\n",
       "    </tr>\n",
       "    <tr>\n",
       "      <th>95946</th>\n",
       "      <td>44</td>\n",
       "      <td>Juan Casivar</td>\n",
       "      <td>C83233818</td>\n",
       "      <td>FARFAN LIBORIO</td>\n",
       "      <td>2/11/2019</td>\n",
       "      <td>VFR-0067</td>\n",
       "      <td>FILTRO DE AIRE MFA-670P / AIP-679</td>\n",
       "      <td>109</td>\n",
       "      <td>FILTROS</td>\n",
       "      <td>1</td>\n",
       "      <td>21008.0</td>\n",
       "      <td>Engativa</td>\n",
       "      <td>Calle 80</td>\n",
       "      <td>31</td>\n",
       "      <td>4.83184</td>\n",
       "    </tr>\n",
       "    <tr>\n",
       "      <th>41710</th>\n",
       "      <td>10</td>\n",
       "      <td>Adrian Lucero</td>\n",
       "      <td>C1019018646</td>\n",
       "      <td>SALAMANCA ANDRES</td>\n",
       "      <td>7/4/2018</td>\n",
       "      <td>SE-CS-4-0001</td>\n",
       "      <td>REPARACION MENOR DE LLANTA (DESPINCHE ) TACO</td>\n",
       "      <td>106</td>\n",
       "      <td>SERVICIOS</td>\n",
       "      <td>1</td>\n",
       "      <td>10924.0</td>\n",
       "      <td>Engativa</td>\n",
       "      <td>Calle 80</td>\n",
       "      <td>31</td>\n",
       "      <td>2.51252</td>\n",
       "    </tr>\n",
       "    <tr>\n",
       "      <th>127178</th>\n",
       "      <td>67</td>\n",
       "      <td>Esteban Vera</td>\n",
       "      <td>C51630996</td>\n",
       "      <td>ACARDENAS AURA</td>\n",
       "      <td>5/2/2020</td>\n",
       "      <td>LL-TCA-0438</td>\n",
       "      <td>PRIMACY 4 225/50R17</td>\n",
       "      <td>101</td>\n",
       "      <td>LLANTA</td>\n",
       "      <td>1</td>\n",
       "      <td>450420.0</td>\n",
       "      <td>Usaquen</td>\n",
       "      <td>Santa ana</td>\n",
       "      <td>33</td>\n",
       "      <td>103.59660</td>\n",
       "    </tr>\n",
       "    <tr>\n",
       "      <th>58804</th>\n",
       "      <td>14</td>\n",
       "      <td>Javier Garay</td>\n",
       "      <td>C3033624</td>\n",
       "      <td>ROJAS CARLOS</td>\n",
       "      <td>3/12/2018</td>\n",
       "      <td>LL-TCA-0133</td>\n",
       "      <td>TOURING 175/70R13</td>\n",
       "      <td>101</td>\n",
       "      <td>LLANTA</td>\n",
       "      <td>2</td>\n",
       "      <td>221849.0</td>\n",
       "      <td>Suba</td>\n",
       "      <td>Suba</td>\n",
       "      <td>32</td>\n",
       "      <td>51.02527</td>\n",
       "    </tr>\n",
       "  </tbody>\n",
       "</table>\n",
       "</div>"
      ],
      "text/plain": [
       "        Id_Empleado Nombre y Apellido    IdCliente      NombreCliente   \n",
       "99598            45    Nicolas Castro    C79141952  BUITRAGO TIMOLEON  \\\n",
       "95946            44      Juan Casivar    C83233818     FARFAN LIBORIO   \n",
       "41710            10     Adrian Lucero  C1019018646   SALAMANCA ANDRES   \n",
       "127178           67      Esteban Vera    C51630996     ACARDENAS AURA   \n",
       "58804            14      Javier Garay     C3033624       ROJAS CARLOS   \n",
       "\n",
       "             Fecha    Referencia   \n",
       "99598   24/11/2017  SE-CS-1-0001  \\\n",
       "95946    2/11/2019      VFR-0067   \n",
       "41710     7/4/2018  SE-CS-4-0001   \n",
       "127178    5/2/2020   LL-TCA-0438   \n",
       "58804    3/12/2018   LL-TCA-0133   \n",
       "\n",
       "                                         Descripcion  CodigoFamilia   \n",
       "99598                                ALINEACION AUTO            106  \\\n",
       "95946              FILTRO DE AIRE MFA-670P / AIP-679            109   \n",
       "41710   REPARACION MENOR DE LLANTA (DESPINCHE ) TACO            106   \n",
       "127178                           PRIMACY 4 225/50R17            101   \n",
       "58804                              TOURING 175/70R13            101   \n",
       "\n",
       "          Familia Cantidad    Ventas       Localidad       Sede  Area   \n",
       "99598   SERVICIOS        1   33613.0  Barrios unidos   Av Chile    34  \\\n",
       "95946     FILTROS        1   21008.0        Engativa   Calle 80    31   \n",
       "41710   SERVICIOS        1   10924.0        Engativa   Calle 80    31   \n",
       "127178     LLANTA        1  450420.0         Usaquen  Santa ana    33   \n",
       "58804      LLANTA        2  221849.0            Suba       Suba    32   \n",
       "\n",
       "        Venta_Dolares  \n",
       "99598         7.73099  \n",
       "95946         4.83184  \n",
       "41710         2.51252  \n",
       "127178      103.59660  \n",
       "58804        51.02527  "
      ]
     },
     "execution_count": 21,
     "metadata": {},
     "output_type": "execute_result"
    }
   ],
   "source": [
    "df_unificada.sample(5)"
   ]
  },
  {
   "cell_type": "code",
   "execution_count": 22,
   "metadata": {},
   "outputs": [],
   "source": [
    "#SE crea el archivo final procesado\n",
    "df_unificada.to_csv('Archivo_procesado.csv', index=False)"
   ]
  },
  {
   "cell_type": "markdown",
   "metadata": {},
   "source": [
    "Indicadores básicos para empezar:\n",
    "Venta Total /\n",
    "Cantidad de Elementos vendidos /\n",
    "Ganancia Facturación Total de Servicios /\n",
    "Cantidad de Servicios Ofrecidos /\n",
    "Cantidad de Sedes o ubicaciones disponibles /\n",
    "Ventas totales por Sedes en cada Rubro o Familia y Servicios /\n",
    "Ventas realizadas por sus empleados /\n",
    "Ranking de Ventas / Servicios de Empleados /"
   ]
  },
  {
   "cell_type": "code",
   "execution_count": 23,
   "metadata": {},
   "outputs": [],
   "source": [
    "# Se lee el archivo ya procesado\n",
    "df = pd.read_csv('Archivo_procesado.csv')"
   ]
  },
  {
   "cell_type": "markdown",
   "metadata": {},
   "source": [
    "Ventas totales:"
   ]
  },
  {
   "cell_type": "code",
   "execution_count": 24,
   "metadata": {},
   "outputs": [
    {
     "data": {
      "text/plain": [
       "17117998.767079998"
      ]
     },
     "execution_count": 24,
     "metadata": {},
     "output_type": "execute_result"
    }
   ],
   "source": [
    "Ventas_totales = df['Venta_Dolares'].sum()\n",
    "Ventas_totales"
   ]
  },
  {
   "cell_type": "markdown",
   "metadata": {},
   "source": [
    "Cantidad de elementos vendidos:"
   ]
  },
  {
   "cell_type": "code",
   "execution_count": 25,
   "metadata": {},
   "outputs": [
    {
     "data": {
      "text/plain": [
       "315067"
      ]
     },
     "execution_count": 25,
     "metadata": {},
     "output_type": "execute_result"
    }
   ],
   "source": [
    "df['Cantidad'] = df['Cantidad'].apply(limpiar_convertir)\n",
    "suma_cantidad = int(df['Cantidad'].sum())\n",
    "suma_cantidad"
   ]
  },
  {
   "cell_type": "markdown",
   "metadata": {},
   "source": [
    "Facturacion total por servicios:"
   ]
  },
  {
   "cell_type": "code",
   "execution_count": 26,
   "metadata": {},
   "outputs": [
    {
     "data": {
      "text/plain": [
       "2591311.09747"
      ]
     },
     "execution_count": 26,
     "metadata": {},
     "output_type": "execute_result"
    }
   ],
   "source": [
    "ventas_total_servicio = df.loc[df['Familia'] == 'SERVICIOS', 'Venta_Dolares'].sum()\n",
    "ventas_total_servicio"
   ]
  },
  {
   "cell_type": "markdown",
   "metadata": {},
   "source": [
    "Cantidad de servicios ofrecido:"
   ]
  },
  {
   "cell_type": "code",
   "execution_count": 27,
   "metadata": {},
   "outputs": [
    {
     "name": "stdout",
     "output_type": "stream",
     "text": [
      "Cantidad de servicios ofrecidos:  130\n"
     ]
    }
   ],
   "source": [
    "# Agrupar las descripciones por el valor en la columna 'familia' y obtener las que pertenecen a 'servicios'\n",
    "descripcion_servicios = df.loc[df['Familia'] == 'SERVICIOS', 'Descripcion'].tolist()\n",
    "servicios_unicos= set(descripcion_servicios)\n",
    "c= 0\n",
    "for unicos in servicios_unicos:\n",
    "    c = c + 1\n",
    "print(\"Cantidad de servicios ofrecidos: \",c)"
   ]
  },
  {
   "cell_type": "markdown",
   "metadata": {},
   "source": [
    "Cantidad de sedes y ubicaciones disponibles:"
   ]
  },
  {
   "cell_type": "code",
   "execution_count": 28,
   "metadata": {},
   "outputs": [
    {
     "name": "stdout",
     "output_type": "stream",
     "text": [
      "Nombre de las sedes y ubicaciones:\n",
      "Av Chile\n",
      "Ventas externas\n",
      "Grandes flotas\n",
      "Santa ana\n",
      "Calle 13\n",
      "Suba\n",
      "Calle 80\n",
      "Cantidad: 7\n"
     ]
    }
   ],
   "source": [
    "\n",
    "sedes = set(df['Sede'])\n",
    "c=0\n",
    "print(\"Nombre de las sedes y ubicaciones:\")\n",
    "for cantidad in sedes:\n",
    "    c+=1\n",
    "    print(cantidad)\n",
    "print(\"Cantidad:\",c)    "
   ]
  },
  {
   "cell_type": "markdown",
   "metadata": {},
   "source": [
    "Ventas totales por Sedes en cada Rubro o Familia y Servicios "
   ]
  },
  {
   "cell_type": "code",
   "execution_count": 29,
   "metadata": {},
   "outputs": [
    {
     "name": "stdout",
     "output_type": "stream",
     "text": [
      "Sede             Familia    \n",
      "Av Chile         FILTROS        4.303792e+03\n",
      "                 LLANTA         7.048852e+05\n",
      "                 LUBRICANTES    1.187145e+04\n",
      "                 REENCAUCHE     7.749480e+02\n",
      "                 SERVICIOS      5.867422e+04\n",
      "Calle 13         FILTROS        3.936319e+02\n",
      "                 LLANTA         5.224524e+05\n",
      "                 LUBRICANTES    1.333687e+03\n",
      "                 REENCAUCHE     9.671865e+04\n",
      "                 SERVICIOS      5.582642e+04\n",
      "Calle 80         FILTROS        2.648899e+04\n",
      "                 LLANTA         1.205320e+06\n",
      "                 LUBRICANTES    3.520883e+04\n",
      "                 REENCAUCHE     1.290111e+05\n",
      "                 SERVICIOS      2.164058e+05\n",
      "Grandes flotas   FILTROS        2.116368e+01\n",
      "                 LLANTA         7.811577e+05\n",
      "                 REENCAUCHE     1.829985e+05\n",
      "                 SERVICIOS      1.889883e+06\n",
      "Santa ana        FILTROS        1.276495e+03\n",
      "                 LLANTA         5.137988e+05\n",
      "                 LUBRICANTES    4.108090e+03\n",
      "                 REENCAUCHE     6.240928e+02\n",
      "                 SERVICIOS      3.435986e+04\n",
      "Suba             FILTROS        7.152176e+03\n",
      "                 LLANTA         2.526985e+05\n",
      "                 LUBRICANTES    1.940701e+04\n",
      "                 SERVICIOS      5.993809e+04\n",
      "Ventas externas  FILTROS        6.211403e+01\n",
      "                 LLANTA         8.637296e+06\n",
      "                 LUBRICANTES    3.383134e+02\n",
      "                 REENCAUCHE     1.386986e+06\n",
      "                 SERVICIOS      2.762232e+05\n",
      "Name: Venta_Dolares, dtype: float64\n",
      "Ventas total por sede:\n",
      "('Av Chile', 'FILTROS') : 4303.7922\n",
      "('Av Chile', 'LLANTA') : 704885.20647\n",
      "('Av Chile', 'LUBRICANTES') : 11871.44632\n",
      "('Av Chile', 'REENCAUCHE') : 774.9479699999999\n",
      "('Av Chile', 'SERVICIOS') : 58674.21923\n",
      "('Calle 13', 'FILTROS') : 393.63189\n",
      "('Calle 13', 'LLANTA') : 522452.4497\n",
      "('Calle 13', 'LUBRICANTES') : 1333.68674\n",
      "('Calle 13', 'REENCAUCHE') : 96718.65148\n",
      "('Calle 13', 'SERVICIOS') : 55826.41512\n",
      "('Calle 80', 'FILTROS') : 26488.99052\n",
      "('Calle 80', 'LLANTA') : 1205319.53376\n",
      "('Calle 80', 'LUBRICANTES') : 35208.82987\n",
      "('Calle 80', 'REENCAUCHE') : 129011.12689\n",
      "('Calle 80', 'SERVICIOS') : 216405.81573\n",
      "('Grandes flotas', 'FILTROS') : 21.16368\n",
      "('Grandes flotas', 'LLANTA') : 781157.66272\n",
      "('Grandes flotas', 'REENCAUCHE') : 182998.48662\n",
      "('Grandes flotas', 'SERVICIOS') : 1889883.4920400002\n",
      "('Santa ana', 'FILTROS') : 1276.49494\n",
      "('Santa ana', 'LLANTA') : 513798.75513\n",
      "('Santa ana', 'LUBRICANTES') : 4108.09049\n",
      "('Santa ana', 'REENCAUCHE') : 624.0928100000001\n",
      "('Santa ana', 'SERVICIOS') : 34359.85548\n",
      "('Suba', 'FILTROS') : 7152.1761400000005\n",
      "('Suba', 'LLANTA') : 252698.45574\n",
      "('Suba', 'LUBRICANTES') : 19407.00578\n",
      "('Suba', 'SERVICIOS') : 59938.08855\n",
      "('Ventas externas', 'FILTROS') : 62.11403\n",
      "('Ventas externas', 'LLANTA') : 8637296.409500001\n",
      "('Ventas externas', 'LUBRICANTES') : 338.31344\n",
      "('Ventas externas', 'REENCAUCHE') : 1386986.15478\n",
      "('Ventas externas', 'SERVICIOS') : 276223.21132\n"
     ]
    }
   ],
   "source": [
    "\n",
    "ventas_totales_por_sede_familia = df.groupby(['Sede', 'Familia'])['Venta_Dolares'].sum()\n",
    "print(ventas_totales_por_sede_familia)\n",
    "\n",
    "ventas_por_sede = ventas_totales_por_sede_familia.to_dict()\n",
    "print(\"Ventas total por sede:\")\n",
    "for clave, valor in ventas_por_sede.items():\n",
    "    \n",
    "        print(f\"{clave} : {valor}\")\n",
    "\n"
   ]
  },
  {
   "cell_type": "markdown",
   "metadata": {},
   "source": [
    "Ventas realizadas por sus empleados "
   ]
  },
  {
   "cell_type": "code",
   "execution_count": 30,
   "metadata": {},
   "outputs": [
    {
     "name": "stdout",
     "output_type": "stream",
     "text": [
      "Ventas por empleado:\n",
      "Esteban Damico : 7965860.73691\n",
      "Julian Quevedo : 2447936.21482\n",
      "Juan Pastran : 1315214.21065\n",
      "Mathiel Perizo : 762647.45546\n",
      "Marcelo Barrios : 520950.91793\n",
      "Adrian Lucero : 450667.66812\n",
      "Nicolas Castro : 437015.52684\n",
      "Javier Garay : 324666.78675\n",
      "Pelaytat Axel : 261650.24158\n",
      "Luis Barquiel : 255423.96793\n",
      "Thian Navarro : 243019.17415\n",
      "Juan Casivar : 213092.50312\n",
      "Franco Guardia : 204557.86023\n",
      "Marcos Luna : 191794.88492\n",
      "Jorge Brizuela : 150583.85177\n",
      "Emir Gimenez : 148343.10667\n",
      "Valentino Guiñez : 145225.34466\n",
      "Theo Fernandez : 139125.4475\n",
      "Montaña Ariel : 129643.92704000001\n",
      "Giovanni Chacon : 122333.13278\n",
      "Tobías Quinteros : 116233.07876\n",
      "Tello German : 100153.0515\n",
      "Francisco Caballero : 67077.36284\n",
      "Oscar Rosseto : 55651.15006\n",
      "Franco Castro : 50427.50092\n",
      "Isaías Alfaro : 50022.63008\n",
      "Castro Milton : 43430.92162\n",
      "Lucas Regalado : 30184.32945\n",
      "Lionel Pastran : 28346.80517\n",
      "Alejandro Gimenez : 26728.27332\n",
      "Rodolfo Colmenares : 15380.156350000001\n",
      "Etian Aballay : 14383.89042\n",
      "Tiziano Silva : 13908.43074\n",
      "Valentin Quintero : 10397.123090000001\n",
      "Eduardo Monardez : 8238.15518\n",
      "Ignacio Pinto : 8106.37024\n",
      "Esteban Vera : 7340.094880000001\n",
      "Catriel Gonzalez : 7266.1623\n",
      "Yair Muñoz : 6530.22187\n",
      "Nicolas Montaña : 5662.47327\n",
      "Jeremias Ventrice : 4054.44\n",
      "Cristian Chena : 3801.1479\n",
      "Liam Arancibia : 2706.9470499999998\n",
      "Dylan de los Ríos : 2628.5520100000003\n",
      "Ian Acosta : 2210.0474600000002\n",
      "Joaquín Grecco : 1391.41536\n",
      "Benjamín Acosta : 1229.74008\n",
      "Omar Pacheco : 1131.92361\n",
      "Gonzalo Valdez : 1006.05082\n",
      "Gian Cabrera : 854.72761\n",
      "Leonardo Perez : 609.5970599999999\n",
      "Adrian Ortiz : 452.26878\n",
      "Espinoza Duilio : 349.88405\n",
      "Julián Soria : 307.11785\n",
      "Alejo Alfaro : 35.45473\n",
      "Marco Delgado : 8.31082\n"
     ]
    }
   ],
   "source": [
    "ventas_por_empleado= df.groupby('Nombre y Apellido')['Venta_Dolares'].sum()\n",
    "ventas_emp= ventas_por_empleado.sort_values(ascending=False)\n",
    "ventas_por_empleado = ventas_emp.to_dict()\n",
    "print(\"Ventas por empleado:\")\n",
    "for clave, valor in ventas_por_empleado.items():\n",
    "    \n",
    "        print(f\"{clave} : {valor}\")"
   ]
  },
  {
   "cell_type": "markdown",
   "metadata": {},
   "source": [
    "Ranking de Ventas / Servicios de Empleados"
   ]
  },
  {
   "cell_type": "code",
   "execution_count": 31,
   "metadata": {},
   "outputs": [
    {
     "name": "stdout",
     "output_type": "stream",
     "text": [
      "Ventas servicios por empleado:\n",
      "Esteban Damico : 1277624.09648\n",
      "Juan Pastran : 497711.8258\n",
      "Mathiel Perizo : 242249.18912\n",
      "Julian Quevedo : 138083.75427\n",
      "Adrian Lucero : 99570.26945\n",
      "Javier Garay : 58017.72816\n",
      "Juan Casivar : 40719.35755\n",
      "Nicolas Castro : 35096.52593\n",
      "Luis Barquiel : 32911.99352\n",
      "Tello German : 28364.29943\n",
      "Thian Navarro : 22121.510860000002\n",
      "Theo Fernandez : 22000.09685\n",
      "Giovanni Chacon : 16437.72648\n",
      "Franco Guardia : 14294.13522\n",
      "Marcos Luna : 10233.62184\n",
      "Marcelo Barrios : 6908.63351\n",
      "Lucas Regalado : 5690.49164\n",
      "Lionel Pastran : 4589.75925\n",
      "Emir Gimenez : 4380.09332\n",
      "Franco Castro : 4357.462930000001\n",
      "Pelaytat Axel : 3376.24337\n",
      "Montaña Ariel : 3161.42567\n",
      "Tobías Quinteros : 3151.79442\n",
      "Francisco Caballero : 2766.716\n",
      "Ignacio Pinto : 2281.24281\n",
      "Catriel Gonzalez : 1844.39714\n",
      "Jorge Brizuela : 1835.10882\n",
      "Oscar Rosseto : 1477.45491\n",
      "Valentino Guiñez : 1052.20377\n",
      "Eduardo Monardez : 1036.6376\n",
      "Tiziano Silva : 840.93957\n",
      "Yair Muñoz : 835.80137\n",
      "Ian Acosta : 706.44753\n",
      "Gonzalo Valdez : 689.97102\n",
      "Liam Arancibia : 661.15363\n",
      "Etian Aballay : 649.5246\n",
      "Castro Milton : 614.06021\n",
      "Rodolfo Colmenares : 486.46794\n",
      "Gian Cabrera : 438.68728\n",
      "Esteban Vera : 411.86376\n",
      "Alejandro Gimenez : 368.23046\n",
      "Valentin Quintero : 240.95007\n",
      "Nicolas Montaña : 209.0102\n",
      "Leonardo Perez : 127.56352\n",
      "Joaquín Grecco : 113.89071\n",
      "Benjamín Acosta : 109.00712\n",
      "Isaías Alfaro : 102.12736\n",
      "Jeremias Ventrice : 87.5449\n",
      "Espinoza Duilio : 80.69826\n",
      "Dylan de los Ríos : 55.66345\n",
      "Omar Pacheco : 53.61231\n",
      "Cristian Chena : 36.482600000000005\n",
      "Adrian Ortiz : 19.32759\n",
      "Alejo Alfaro : 17.96507\n",
      "Marco Delgado : 8.31082\n"
     ]
    }
   ],
   "source": [
    "# Paso 1: Filtrar los registros con 'Familia' igual a 'SERVICIOS'\n",
    "df_servicios = df[df['Familia'] == 'SERVICIOS']\n",
    "\n",
    "# Paso 2 y 3: Calcular la suma de ventas por empleado\n",
    "ventas_servicios = df_servicios.groupby('Nombre y Apellido')['Venta_Dolares'].sum()\n",
    "\n",
    "# Paso 4: Ordenar el resultado para obtener el ranking de ventas por servicio\n",
    "ranking_ventas_servicios = ventas_servicios.sort_values(ascending=False)\n",
    "\n",
    "ventas_por_empleado = ranking_ventas_servicios.to_dict()\n",
    "print(\"Ventas servicios por empleado:\")\n",
    "for clave, valor in ventas_por_empleado.items():\n",
    "    \n",
    "        print(f\"{clave} : {valor}\")\n"
   ]
  }
 ],
 "metadata": {
  "kernelspec": {
   "display_name": "Python 3",
   "language": "python",
   "name": "python3"
  },
  "language_info": {
   "codemirror_mode": {
    "name": "ipython",
    "version": 3
   },
   "file_extension": ".py",
   "mimetype": "text/x-python",
   "name": "python",
   "nbconvert_exporter": "python",
   "pygments_lexer": "ipython3",
   "version": "3.11.3"
  },
  "orig_nbformat": 4
 },
 "nbformat": 4,
 "nbformat_minor": 2
}
